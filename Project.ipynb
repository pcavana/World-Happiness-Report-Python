{
 "cells": [
  {
   "cell_type": "code",
   "execution_count": null,
   "metadata": {},
   "outputs": [],
   "source": [
    "import pandas as pd\n",
    "import zipfile  \n",
    "from io import BytesIO\n",
    "\n",
    "import numpy as np\n",
    "\n",
    "import matplotlib.pyplot as plt\n",
    "from matplotlib import rcParams\n",
    "import chart_studio.plotly as py\n",
    "import plotly.graph_objs as go\n",
    "from plotly.offline import download_plotlyjs, init_notebook_mode, plot, iplot\n",
    "init_notebook_mode(connected=True)\n",
    "import seaborn as sns\n",
    "\n",
    "sns.set(style=\"whitegrid\", palette=\"muted\")\n",
    "current_palette = sns.color_palette()"
   ]
  },
  {
   "cell_type": "markdown",
   "metadata": {},
   "source": [
    "# Load Datasets \n"
   ]
  },
  {
   "cell_type": "code",
   "execution_count": null,
   "metadata": {},
   "outputs": [],
   "source": [
    "nineteen = pd.read_csv(\"2019.csv\")"
   ]
  },
  {
   "cell_type": "code",
   "execution_count": null,
   "metadata": {},
   "outputs": [],
   "source": [
    "nineteen.head()"
   ]
  },
  {
   "cell_type": "code",
   "execution_count": null,
   "metadata": {},
   "outputs": [],
   "source": [
    "nineteen.tail()"
   ]
  },
  {
   "cell_type": "code",
   "execution_count": null,
   "metadata": {},
   "outputs": [],
   "source": [
    "nineteen.describe()"
   ]
  },
  {
   "cell_type": "code",
   "execution_count": null,
   "metadata": {},
   "outputs": [],
   "source": [
    "nineteen.dtypes"
   ]
  },
  {
   "cell_type": "code",
   "execution_count": null,
   "metadata": {},
   "outputs": [],
   "source": [
    "nineteen.columns"
   ]
  },
  {
   "cell_type": "code",
   "execution_count": null,
   "metadata": {},
   "outputs": [],
   "source": [
    "nineteen.corr()"
   ]
  },
  {
   "cell_type": "markdown",
   "metadata": {},
   "source": [
    "# Basic Visualization\n",
    "\n",
    "First, we will try to understand the correlation between few variables. For this, first compute the correlation matrix among the variables and plotted as heat map."
   ]
  },
  {
   "cell_type": "code",
   "execution_count": null,
   "metadata": {},
   "outputs": [],
   "source": [
    "nt = nineteen[['Score','GDP per capita','Social support','Healthy life expectancy', 'Freedom to make life choices', \n",
    "          'Generosity','Perceptions of corruption']] #Subsetting the data\n",
    "cor = nt.corr() #Calculate the correlation of the above variables\n",
    "sns.heatmap(cor, square = True) #Plot the correlation as heat map"
   ]
  },
  {
   "cell_type": "markdown",
   "metadata": {},
   "source": [
    "We have obtained the heatmap of correlation among the variables. The color palette in the side represents the amount of correlation among the variables. The lighter shade represents high correlation. We can see that happiness score is highly correlated with GDP per capita, family and life expectancy. It is least correlated with generosity."
   ]
  },
  {
   "cell_type": "code",
   "execution_count": null,
   "metadata": {},
   "outputs": [],
   "source": [
    "nineteen.plot(kind='scatter',x='Score',y='Healthy life expectancy',color='red',alpha=.5)\n",
    "plt.xlabel(' Happiness Score')\n",
    "plt.ylabel('Healthy life expectancy')\n",
    "plt.title('Happiness Score vs Health')\n",
    "plt.show()"
   ]
  },
  {
   "cell_type": "markdown",
   "metadata": {},
   "source": [
    "It is very clear that there is a positive relationship with health."
   ]
  },
  {
   "cell_type": "code",
   "execution_count": null,
   "metadata": {},
   "outputs": [],
   "source": [
    "nineteen.plot(kind='scatter',x='GDP per capita',y='Healthy life expectancy',color='red',alpha=.5)\n",
    "plt.xlabel('GDP per capita')\n",
    "plt.ylabel('Healthy life expectancy')\n",
    "plt.title('GDP per capita vs Health')\n",
    "plt.show()"
   ]
  },
  {
   "cell_type": "markdown",
   "metadata": {},
   "source": [
    "There is a highly positive correlation between economy and life expectancy."
   ]
  },
  {
   "cell_type": "code",
   "execution_count": null,
   "metadata": {},
   "outputs": [],
   "source": [
    "nineteen.plot(kind='scatter',x='Perceptions of corruption',y='Score',color='red',alpha=.5)\n",
    "plt.xlabel('Perceptions of corruption')\n",
    "plt.ylabel('Happiness score')\n",
    "plt.title('Perceptions of corruption vs Happiness score')\n",
    "plt.show()"
   ]
  },
  {
   "cell_type": "markdown",
   "metadata": {},
   "source": [
    "There is no correlation between Happiness Score and Perceptions of corruption."
   ]
  },
  {
   "cell_type": "code",
   "execution_count": null,
   "metadata": {},
   "outputs": [],
   "source": [
    "data = dict(\n",
    "        type = 'choropleth',\n",
    "        colorscale = 'Viridis',\n",
    "         marker_line_width=1,\n",
    "        locations = nineteen['Country or region'],\n",
    "        locationmode = \"country names\",\n",
    "        z = nineteen['Score'],\n",
    "        text = nineteen['Country or region'],\n",
    "        colorbar = {'title' : 'Happiness Score'},\n",
    "        \n",
    "      )\n",
    "layout = dict(title = 'Happiness Map',\n",
    "              geo = dict(projection = {'type':'mercator'}, showocean = False, showlakes = True, showrivers = True, )\n",
    "             )\n",
    "choromap = go.Figure(data = [data],layout = layout)\n",
    "iplot(choromap,validate=False)"
   ]
  }
 ],
 "metadata": {
  "kernelspec": {
   "display_name": "Python 3.9.13 64-bit",
   "language": "python",
   "name": "python3"
  },
  "language_info": {
   "codemirror_mode": {
    "name": "ipython",
    "version": 3
   },
   "file_extension": ".py",
   "mimetype": "text/x-python",
   "name": "python",
   "nbconvert_exporter": "python",
   "pygments_lexer": "ipython3",
   "version": "3.9.13"
  },
  "orig_nbformat": 4,
  "vscode": {
   "interpreter": {
    "hash": "18b0eca292df7790ae02c99d513840323a4ed6febc80d490ebe22b975c5e1f10"
   }
  }
 },
 "nbformat": 4,
 "nbformat_minor": 2
}
